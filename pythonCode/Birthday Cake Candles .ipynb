{
 "cells": [
  {
   "cell_type": "code",
   "execution_count": 56,
   "id": "5030a6c7-3986-4ac8-a8b9-c49a57a5fc18",
   "metadata": {},
   "outputs": [
    {
     "name": "stdin",
     "output_type": "stream",
     "text": [
      "Enter age:  7\n",
      "Element 1 :  6\n",
      "Element 2 :  6\n",
      "Element 3 :  6\n",
      "Element 4 :  6\n",
      "Element 5 :  6\n",
      "Element 6 :  4\n",
      "Element 7 :  3\n"
     ]
    }
   ],
   "source": [
    "age = int(input(\"Enter age: \"))\n",
    "candles = []\n",
    "\n",
    "for i in range(1, age + 1):\n",
    "    candles.append(int(input(f\"Element {i} : \")))"
   ]
  },
  {
   "cell_type": "code",
   "execution_count": 57,
   "id": "3777155c-bdd3-4e87-af55-f713e059cbd0",
   "metadata": {},
   "outputs": [],
   "source": [
    "def birthdayCakeCandles(arr):\n",
    "    #max in array\n",
    "    max = arr[0]\n",
    "    counter = 0\n",
    "    for i in range(1,len(arr)):\n",
    "        if(max < arr[i]):\n",
    "            max = arr[i]\n",
    "    for i in range(0,len(arr)):\n",
    "        if(max == arr[i]):\n",
    "            counter = counter + 1\n",
    "    return counter"
   ]
  },
  {
   "cell_type": "code",
   "execution_count": 58,
   "id": "da9458bb-048c-4772-bebc-ab7c1b2541ab",
   "metadata": {},
   "outputs": [
    {
     "name": "stdout",
     "output_type": "stream",
     "text": [
      "5\n"
     ]
    }
   ],
   "source": [
    "tallest = birthdayCakeCandles(candles)\n",
    "print(tallest)"
   ]
  }
 ],
 "metadata": {
  "kernelspec": {
   "display_name": "Python 3 (ipykernel)",
   "language": "python",
   "name": "python3"
  },
  "language_info": {
   "codemirror_mode": {
    "name": "ipython",
    "version": 3
   },
   "file_extension": ".py",
   "mimetype": "text/x-python",
   "name": "python",
   "nbconvert_exporter": "python",
   "pygments_lexer": "ipython3",
   "version": "3.12.4"
  }
 },
 "nbformat": 4,
 "nbformat_minor": 5
}
