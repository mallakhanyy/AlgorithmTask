{
 "cells": [
  {
   "cell_type": "code",
   "execution_count": 1,
   "id": "4dbd6bb6-cba2-4cdd-9e0c-40f715ae2036",
   "metadata": {},
   "outputs": [
    {
     "name": "stdin",
     "output_type": "stream",
     "text": [
      "Enter age:  4\n",
      "Element 1 :  3\n",
      "Element 2 :  2\n",
      "Element 3 :  1\n",
      "Element 4 :  3\n"
     ]
    }
   ],
   "source": [
    "age = int(input(\"Enter age: \"))\n",
    "candles = []\n",
    "\n",
    "for i in range(1, age + 1):\n",
    "    candles.append(int(input(f\"Element {i} : \")))"
   ]
  },
  {
   "cell_type": "code",
   "execution_count": 2,
   "id": "e4860133-f468-4e14-a6a0-7e4dc2e47ead",
   "metadata": {},
   "outputs": [],
   "source": [
    "def birthdayCakeCandles(arr):\n",
    "    def helper(arr, i=0, current_max=None, count=0):\n",
    "        if i == len(arr):\n",
    "            return count\n",
    "\n",
    "        if current_max is None or arr[i] > current_max:\n",
    "            return helper(arr, i + 1, arr[i], 1)\n",
    "        \n",
    "        elif arr[i] == current_max:\n",
    "            return helper(arr, i + 1, current_max, count + 1)\n",
    "        \n",
    "        return helper(arr, i + 1, current_max, count)\n",
    "    return helper(arr)"
   ]
  },
  {
   "cell_type": "code",
   "execution_count": 3,
   "id": "3ea05735-21a0-4505-af7c-34555e3035d1",
   "metadata": {},
   "outputs": [
    {
     "name": "stdout",
     "output_type": "stream",
     "text": [
      "2\n"
     ]
    }
   ],
   "source": [
    "tallest = birthdayCakeCandles(candles)\n",
    "print(tallest)"
   ]
  },
  {
   "cell_type": "code",
   "execution_count": null,
   "id": "8d614a92-0f8e-4439-b0eb-e710b103a6a5",
   "metadata": {},
   "outputs": [],
   "source": []
  }
 ],
 "metadata": {
  "kernelspec": {
   "display_name": "Python 3 (ipykernel)",
   "language": "python",
   "name": "python3"
  },
  "language_info": {
   "codemirror_mode": {
    "name": "ipython",
    "version": 3
   },
   "file_extension": ".py",
   "mimetype": "text/x-python",
   "name": "python",
   "nbconvert_exporter": "python",
   "pygments_lexer": "ipython3",
   "version": "3.12.4"
  }
 },
 "nbformat": 4,
 "nbformat_minor": 5
}
